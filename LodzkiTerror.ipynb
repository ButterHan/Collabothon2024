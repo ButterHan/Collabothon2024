{
  "nbformat": 4,
  "nbformat_minor": 0,
  "metadata": {
    "colab": {
      "provenance": [],
      "include_colab_link": true
    },
    "kernelspec": {
      "name": "python3",
      "display_name": "Python 3"
    },
    "language_info": {
      "name": "python"
    }
  },
  "cells": [
    {
      "cell_type": "markdown",
      "metadata": {
        "id": "view-in-github",
        "colab_type": "text"
      },
      "source": [
        "<a href=\"https://colab.research.google.com/github/1stDimension/collabothon_2024/blob/master/LodzkiTerror.ipynb\" target=\"_parent\"><img src=\"https://colab.research.google.com/assets/colab-badge.svg\" alt=\"Open In Colab\"/></a>"
      ]
    },
    {
      "cell_type": "markdown",
      "source": [
        "https://github.com/perkele4040/Collabothon24API"
      ],
      "metadata": {
        "id": "uqHW3ujbUUrw"
      }
    },
    {
      "cell_type": "code",
      "execution_count": null,
      "metadata": {
        "id": "ufesfpdqTkZf"
      },
      "outputs": [],
      "source": [
        "class ClientCredentials():\n",
        "    client_id = \"\"\n",
        "    client_secret = \"\"\n",
        "\n",
        "    def __init__(self, client_id, client_secret):\n",
        "        self.client_secret = client_secret\n",
        "        self.client_id = client_id\n",
        "\n",
        "    def getClientId(self):\n",
        "        return str(self.client_id)\n",
        "\n",
        "    def getClientSecret(self):\n",
        "        return str(self.client_secret)\n",
        "\n",
        "cc = ClientCredentials(\"e5fd58c3-1e95-4376-9273-7851d24dba61\", \"75d24ff6-cc94-428c-b12e-a91b778e8463\")"
      ]
    },
    {
      "cell_type": "code",
      "source": [
        "import json\n",
        "\n",
        "import requests\n",
        "\n",
        "\n",
        "def getTokenSbxClientCredentials(cc):\n",
        "    url = \"https://api-sandbox.commerzbank.com/auth/realms/sandbox/protocol/openid-connect/token\"\n",
        "\n",
        "    payload = (\"grant_type=client_credentials&client_id=\" + cc.getClientId() + \"&client_secret=\" + cc.getClientSecret())\n",
        "\n",
        "    headers = {\n",
        "        'Content-Type': 'application/x-www-form-urlencoded'\n",
        "    }\n",
        "\n",
        "    response = requests.request(\"POST\", url, headers=headers, data=payload)\n",
        "    print('token request outcome: ' + str(response.status_code))\n",
        "\n",
        "    token = json.loads(response.text)['access_token']\n",
        "    return token\n",
        "\n",
        "token = getTokenSbxClientCredentials(cc)"
      ],
      "metadata": {
        "colab": {
          "base_uri": "https://localhost:8080/"
        },
        "id": "A-XNqexkUbV9",
        "outputId": "c682708f-0996-4adc-a151-75aa020b1347"
      },
      "execution_count": null,
      "outputs": [
        {
          "output_type": "stream",
          "name": "stdout",
          "text": [
            "token request outcome: 200\n"
          ]
        }
      ]
    }
  ]
}